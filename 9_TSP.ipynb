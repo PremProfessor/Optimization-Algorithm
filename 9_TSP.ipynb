{
  "nbformat": 4,
  "nbformat_minor": 0,
  "metadata": {
    "colab": {
      "provenance": []
    },
    "kernelspec": {
      "name": "python3",
      "display_name": "Python 3"
    },
    "language_info": {
      "name": "python"
    },
    "accelerator": "GPU",
    "gpuClass": "standard"
  },
  "cells": [
    {
      "cell_type": "markdown",
      "source": [
        "## TSP\n"
      ],
      "metadata": {
        "id": "N-jS-sBZbd3i"
      }
    },
    {
      "cell_type": "code",
      "source": [
        "import numpy as np\n",
        "import networkx as nx\n",
        "from itertools import combinations"
      ],
      "metadata": {
        "id": "3gFRPMAoa3Nq"
      },
      "execution_count": null,
      "outputs": []
    },
    {
      "cell_type": "code",
      "source": [
        "def generate_random_weighted_graph(n,low,high):\n",
        "    g = nx.generators.complete_graph(n)\n",
        "    # add random weights to the graph\n",
        "    g.add_weighted_edges_from([(a,b,np.random.randint(low,high)) for a,b in g.edges()])\n",
        "    return g\n"
      ],
      "metadata": {
        "id": "8sddx51ga7r7"
      },
      "execution_count": null,
      "outputs": []
    },
    {
      "cell_type": "code",
      "source": [
        "np.random.seed(3)\n",
        "g = generate_random_weighted_graph(7,1,20)\n"
      ],
      "metadata": {
        "id": "ihUctWJ1bAS2"
      },
      "execution_count": null,
      "outputs": []
    },
    {
      "cell_type": "markdown",
      "source": [
        "### Intialization"
      ],
      "metadata": {
        "id": "Wylx3GOdbi5c"
      }
    },
    {
      "cell_type": "markdown",
      "source": [
        "#### Nearest Neighbour Initialization"
      ],
      "metadata": {
        "id": "i6WQYRfLmqbP"
      }
    },
    {
      "cell_type": "code",
      "execution_count": null,
      "metadata": {
        "id": "MDQnARLXZAF4"
      },
      "outputs": [],
      "source": [
        "def nearest_neighbour_initialization(g,closed_tour=False):\n",
        "    curr_node = np.random.choice(g.nodes) \n",
        "    path = [curr_node]\n",
        "    not_visited = set(g.nodes)-{curr_node}\n",
        "    while not_visited:\n",
        "        not_visited_neighbours = not_visited&set(g.neighbors(curr_node))\n",
        "        key =lambda x: g[curr_node][x][\"weight\"]\n",
        "        curr_node = min(not_visited_neighbours,key = key) \n",
        "        path.append(curr_node)\n",
        "        not_visited.remove(curr_node)\n",
        "    if closed_tour:\n",
        "        path.append(path[0])\n",
        "    return path"
      ]
    },
    {
      "cell_type": "code",
      "source": [
        "nearest_neighbour_initialization(g)"
      ],
      "metadata": {
        "colab": {
          "base_uri": "https://localhost:8080/"
        },
        "id": "oUP49QjFbGt1",
        "outputId": "17792d40-d81c-40e2-c549-adcbac3f185b"
      },
      "execution_count": null,
      "outputs": [
        {
          "output_type": "execute_result",
          "data": {
            "text/plain": [
              "[4, 0, 2, 6, 5, 1, 3]"
            ]
          },
          "metadata": {},
          "execution_count": 19
        }
      ]
    },
    {
      "cell_type": "markdown",
      "source": [
        "#### Shortest edge intialization"
      ],
      "metadata": {
        "id": "ummv0bduoaLm"
      }
    },
    {
      "cell_type": "code",
      "source": [
        "from collections import defaultdict"
      ],
      "metadata": {
        "id": "je30Z7uq3H37"
      },
      "execution_count": null,
      "outputs": []
    },
    {
      "cell_type": "code",
      "source": [
        "def has_cycle(g):\n",
        "    try:\n",
        "        nx.find_cycle(g)\n",
        "    except nx.NetworkXNoCycle:\n",
        "        return False\n",
        "    return True\n",
        "\n",
        "def get_path_from_edges(edges,closed_tour=False):\n",
        "    path_graph = nx.Graph(edges)\n",
        "    # if it is an open tour start from a node with a single degree\n",
        "    curr = min(path_graph.nodes,key=path_graph.degree) \n",
        "    path,visited = [curr],{curr}\n",
        "    while len(path)<len(path_graph):\n",
        "        curr = (set(path_graph.neighbors(curr))-visited).pop()\n",
        "        visited.add(curr)\n",
        "        path.append(curr)\n",
        "    if closed_tour:\n",
        "        path.append(path[0])\n",
        "    return path"
      ],
      "metadata": {
        "id": "4J4AE2hsoeht"
      },
      "execution_count": null,
      "outputs": []
    },
    {
      "cell_type": "code",
      "source": [
        "def shortest_edge_initialization(g,method=\"greedy\", closed_tour = False):\n",
        "    edge_list = set(g.edges)\n",
        "    times_visited  = defaultdict(int)\n",
        "    tour = set() \n",
        "    max_tour_len = len(g) if closed_tour else len(g)-1\n",
        "    key = nx.get_edge_attributes(g,\"weight\").get\n",
        "    while len(tour)<max_tour_len:\n",
        "       u,v = min(edge_list, key=key)\n",
        "       times_visited[u]+=1\n",
        "       times_visited[v]+=1\n",
        "       tour.add((u,v))\n",
        "       edge_list.remove((u,v))\n",
        "       for u,v in set(edge_list):\n",
        "            if (\n",
        "                (has_cycle(nx.Graph(tour|{(u,v)})) and len(tour) != len(g)-1)\n",
        "                or times_visited[u] ==2 or times_visited[v] ==2\n",
        "\n",
        "            ):\n",
        "                edge_list.remove((u,v))\n",
        "\n",
        "    return get_path_from_edges(tour,closed_tour=closed_tour)"
      ],
      "metadata": {
        "id": "bBCffwbRouD3"
      },
      "execution_count": null,
      "outputs": []
    },
    {
      "cell_type": "code",
      "source": [
        "shortest_edge_initialization(g)"
      ],
      "metadata": {
        "colab": {
          "base_uri": "https://localhost:8080/"
        },
        "id": "A-p8zjOT29ea",
        "outputId": "2bd1dc5e-2c76-4a15-a3f7-5176e993c0df"
      },
      "execution_count": null,
      "outputs": [
        {
          "output_type": "execute_result",
          "data": {
            "text/plain": [
              "[1, 5, 6, 2, 0, 4, 3]"
            ]
          },
          "metadata": {},
          "execution_count": 9
        }
      ]
    },
    {
      "cell_type": "markdown",
      "source": [
        "### Cross over"
      ],
      "metadata": {
        "id": "4eHpo5zV3K8w"
      }
    },
    {
      "cell_type": "markdown",
      "source": [
        "#### Partially Matched Crossover"
      ],
      "metadata": {
        "id": "5AXK25DJ5yh7"
      }
    },
    {
      "cell_type": "code",
      "source": [
        "def make_valid_tour(p,nodes):\n",
        "    unvisited = set(nodes)-set(p)\n",
        "    indices = defaultdict(list)\n",
        "    for i in range(len(p)):\n",
        "        indices[p[i]].append(i)\n",
        "    visited_twice = {node for node in indices if len(indices[node])==2}\n",
        "    for node in visited_twice:\n",
        "        change_index = np.random.choice(indices[node])\n",
        "        p[change_index] = unvisited.pop()\n",
        "    return p\n",
        "\n",
        "def partially_matched_crossover(p1,p2):\n",
        "    pt = np.random.randint(1,len(p1)-1) # crossover point\n",
        "    c1 = p1[:pt] + p2[pt:]\n",
        "    c2 = p2[:pt] + p1[pt:]\n",
        "    nodes = set(p1)\n",
        "    return make_valid_tour(c1,nodes),make_valid_tour(c2,nodes)"
      ],
      "metadata": {
        "id": "ayC8tcbw3fVk"
      },
      "execution_count": null,
      "outputs": []
    },
    {
      "cell_type": "code",
      "source": [
        "parents=[[1, 2, 0, 4, 6, 5, 3], [0, 1, 4, 2, 6, 5, 3]]\n",
        "print(partially_matched_crossover(*parents))"
      ],
      "metadata": {
        "colab": {
          "base_uri": "https://localhost:8080/"
        },
        "id": "vV4x64fO3hnP",
        "outputId": "05e38636-934b-4fc2-d2c5-bfc9dc427e8d"
      },
      "execution_count": null,
      "outputs": [
        {
          "output_type": "stream",
          "name": "stdout",
          "text": [
            "([1, 4, 0, 2, 6, 5, 3], [0, 1, 4, 2, 6, 5, 3])\n"
          ]
        }
      ]
    },
    {
      "cell_type": "markdown",
      "source": [
        "#### Order Crossover"
      ],
      "metadata": {
        "id": "1BfeMSuR5oHD"
      }
    },
    {
      "cell_type": "code",
      "source": [
        "def order_crossover(p1,p2):\n",
        "    start = np.random.randint(0,len(p1)-1)\n",
        "    end = np.random.randint(start+1,len(p1) if start !=0 else len(p1)-1)\n",
        "    def fill_blanks(p1,p2,s,e):\n",
        "        \n",
        "        unvisited_nodes = p2.copy()\n",
        "        for node in p1[s:e]:\n",
        "            unvisited_nodes.remove(node)\n",
        "\n",
        "        c = p1.copy()\n",
        "        for i in range(len(p1)):\n",
        "            if i<s or i>=e:\n",
        "                c[i] = unvisited_nodes.pop(0)\n",
        "        return c\n",
        "\n",
        "    c1 = fill_blanks(p1,p2,start,end)\n",
        "    c2 = fill_blanks(p2,p1,start,end)\n",
        "    return c1,c2"
      ],
      "metadata": {
        "id": "KW_dStSc56DH"
      },
      "execution_count": null,
      "outputs": []
    },
    {
      "cell_type": "code",
      "source": [
        "order_crossover(*parents)"
      ],
      "metadata": {
        "colab": {
          "base_uri": "https://localhost:8080/"
        },
        "id": "BFj3Z4SF6CuV",
        "outputId": "fd10cecc-f256-4316-aa53-325a3813852f"
      },
      "execution_count": null,
      "outputs": [
        {
          "output_type": "execute_result",
          "data": {
            "text/plain": [
              "([1, 2, 0, 4, 6, 5, 3], [0, 1, 4, 2, 6, 5, 3])"
            ]
          },
          "metadata": {},
          "execution_count": 13
        }
      ]
    },
    {
      "cell_type": "markdown",
      "source": [
        "### Mutation"
      ],
      "metadata": {
        "id": "cwXp30Nf6LF2"
      }
    },
    {
      "cell_type": "markdown",
      "source": [
        "#### Inversion"
      ],
      "metadata": {
        "id": "PpmBoBzs6NGk"
      }
    },
    {
      "cell_type": "code",
      "source": [
        "def inversion_mutation(p):\n",
        "    start = np.random.randint(0,len(p)-1)\n",
        "    end = np.random.randint(start+1,len(p)+1)\n",
        "    subtour = p[start:end]\n",
        "    c = p.copy()\n",
        "    for i in range(start,end):\n",
        "        c[i] = subtour.pop()\n",
        "    return c"
      ],
      "metadata": {
        "id": "DwWoLL7h6SIB"
      },
      "execution_count": null,
      "outputs": []
    },
    {
      "cell_type": "code",
      "source": [
        "p=[2, 0, 4, 1, 3, 6, 5]\n",
        "inversion_mutation(p)"
      ],
      "metadata": {
        "colab": {
          "base_uri": "https://localhost:8080/"
        },
        "id": "2TzXiVeU6T-Y",
        "outputId": "b00999c9-4bf5-480b-f328-bb784d9b6c9e"
      },
      "execution_count": null,
      "outputs": [
        {
          "output_type": "execute_result",
          "data": {
            "text/plain": [
              "[2, 3, 1, 4, 0, 6, 5]"
            ]
          },
          "metadata": {},
          "execution_count": 15
        }
      ]
    },
    {
      "cell_type": "markdown",
      "source": [
        "#### Insertion"
      ],
      "metadata": {
        "id": "QvTDOCFV6z4Y"
      }
    },
    {
      "cell_type": "code",
      "source": [
        "def insertion_mutation(p):\n",
        "    i = np.random.randint(1,len(p))\n",
        "    k = np.random.randint(0,len(p)-1)\n",
        "    c = p.copy()\n",
        "    c.insert(k,c.pop(i))\n",
        "    return c"
      ],
      "metadata": {
        "id": "8uTt185c7A7h"
      },
      "execution_count": null,
      "outputs": []
    },
    {
      "cell_type": "code",
      "source": [
        "insertion_mutation(p)"
      ],
      "metadata": {
        "colab": {
          "base_uri": "https://localhost:8080/"
        },
        "id": "E7LLWu237Bm3",
        "outputId": "ece9f25a-7eaa-4420-9809-371816d0291d"
      },
      "execution_count": null,
      "outputs": [
        {
          "output_type": "execute_result",
          "data": {
            "text/plain": [
              "[2, 4, 1, 3, 6, 0, 5]"
            ]
          },
          "metadata": {},
          "execution_count": 17
        }
      ]
    }
  ]
}